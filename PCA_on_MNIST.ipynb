{
  "nbformat": 4,
  "nbformat_minor": 0,
  "metadata": {
    "colab": {
      "provenance": [],
      "gpuType": "T4"
    },
    "kernelspec": {
      "name": "python3",
      "display_name": "Python 3"
    },
    "language_info": {
      "name": "python"
    },
    "accelerator": "GPU"
  },
  "cells": [
    {
      "cell_type": "code",
      "execution_count": 1,
      "metadata": {
        "colab": {
          "base_uri": "https://localhost:8080/"
        },
        "id": "mx-0VOObHBwY",
        "outputId": "fd6ba668-40a4-4fdd-8ad2-504050910e08"
      },
      "outputs": [
        {
          "output_type": "stream",
          "name": "stdout",
          "text": [
            "Jay Shree Krishna\n"
          ]
        }
      ],
      "source": [
        "print(\"Jay Shree Krishna\")"
      ]
    },
    {
      "cell_type": "code",
      "source": [
        "# Imports\n",
        "import torch\n",
        "import torchvision\n",
        "from torchvision.datasets import MNIST\n",
        "import torchvision.transforms as transforms\n"
      ],
      "metadata": {
        "id": "ujZjDntdHOor"
      },
      "execution_count": 2,
      "outputs": []
    },
    {
      "cell_type": "code",
      "source": [
        "# Download training dataset\n",
        "dataset = MNIST(root='data/', download=True,transform=transforms.ToTensor())"
      ],
      "metadata": {
        "id": "ru5RNlQoH0K2",
        "colab": {
          "base_uri": "https://localhost:8080/"
        },
        "outputId": "a64c1116-08e5-42a8-abfc-5d4e025d2e64"
      },
      "execution_count": 3,
      "outputs": [
        {
          "output_type": "stream",
          "name": "stdout",
          "text": [
            "Downloading http://yann.lecun.com/exdb/mnist/train-images-idx3-ubyte.gz\n",
            "Downloading http://yann.lecun.com/exdb/mnist/train-images-idx3-ubyte.gz to data/MNIST/raw/train-images-idx3-ubyte.gz\n"
          ]
        },
        {
          "output_type": "stream",
          "name": "stderr",
          "text": [
            "100%|██████████| 9912422/9912422 [00:00<00:00, 80650451.97it/s]\n"
          ]
        },
        {
          "output_type": "stream",
          "name": "stdout",
          "text": [
            "Extracting data/MNIST/raw/train-images-idx3-ubyte.gz to data/MNIST/raw\n",
            "\n",
            "Downloading http://yann.lecun.com/exdb/mnist/train-labels-idx1-ubyte.gz\n",
            "Downloading http://yann.lecun.com/exdb/mnist/train-labels-idx1-ubyte.gz to data/MNIST/raw/train-labels-idx1-ubyte.gz\n"
          ]
        },
        {
          "output_type": "stream",
          "name": "stderr",
          "text": [
            "100%|██████████| 28881/28881 [00:00<00:00, 108447353.47it/s]"
          ]
        },
        {
          "output_type": "stream",
          "name": "stdout",
          "text": [
            "Extracting data/MNIST/raw/train-labels-idx1-ubyte.gz to data/MNIST/raw\n",
            "\n",
            "Downloading http://yann.lecun.com/exdb/mnist/t10k-images-idx3-ubyte.gz\n"
          ]
        },
        {
          "output_type": "stream",
          "name": "stderr",
          "text": [
            "\n"
          ]
        },
        {
          "output_type": "stream",
          "name": "stdout",
          "text": [
            "Downloading http://yann.lecun.com/exdb/mnist/t10k-images-idx3-ubyte.gz to data/MNIST/raw/t10k-images-idx3-ubyte.gz\n"
          ]
        },
        {
          "output_type": "stream",
          "name": "stderr",
          "text": [
            "100%|██████████| 1648877/1648877 [00:00<00:00, 23250523.27it/s]"
          ]
        },
        {
          "output_type": "stream",
          "name": "stdout",
          "text": [
            "Extracting data/MNIST/raw/t10k-images-idx3-ubyte.gz to data/MNIST/raw\n",
            "\n",
            "Downloading http://yann.lecun.com/exdb/mnist/t10k-labels-idx1-ubyte.gz\n"
          ]
        },
        {
          "output_type": "stream",
          "name": "stderr",
          "text": [
            "\n"
          ]
        },
        {
          "output_type": "stream",
          "name": "stdout",
          "text": [
            "Downloading http://yann.lecun.com/exdb/mnist/t10k-labels-idx1-ubyte.gz to data/MNIST/raw/t10k-labels-idx1-ubyte.gz\n"
          ]
        },
        {
          "output_type": "stream",
          "name": "stderr",
          "text": [
            "100%|██████████| 4542/4542 [00:00<00:00, 18388541.28it/s]\n"
          ]
        },
        {
          "output_type": "stream",
          "name": "stdout",
          "text": [
            "Extracting data/MNIST/raw/t10k-labels-idx1-ubyte.gz to data/MNIST/raw\n",
            "\n"
          ]
        }
      ]
    },
    {
      "cell_type": "code",
      "source": [
        "dataset"
      ],
      "metadata": {
        "colab": {
          "base_uri": "https://localhost:8080/"
        },
        "id": "CGoYL3DOH1CP",
        "outputId": "aa16cc18-0f58-4755-9d27-5bc29c8c4213"
      },
      "execution_count": 4,
      "outputs": [
        {
          "output_type": "execute_result",
          "data": {
            "text/plain": [
              "Dataset MNIST\n",
              "    Number of datapoints: 60000\n",
              "    Root location: data/\n",
              "    Split: Train\n",
              "    StandardTransform\n",
              "Transform: ToTensor()"
            ]
          },
          "metadata": {},
          "execution_count": 4
        }
      ]
    },
    {
      "cell_type": "code",
      "source": [
        "import matplotlib.pyplot as plt\n",
        "\n",
        "for d in dataset:\n",
        "  # print(d[0])\n",
        "  print(d[1])\n",
        "  break"
      ],
      "metadata": {
        "colab": {
          "base_uri": "https://localhost:8080/"
        },
        "id": "BZSgeYx_H7NV",
        "outputId": "f6c640ea-7585-4688-fd52-a74fbaa2d7bc"
      },
      "execution_count": 5,
      "outputs": [
        {
          "output_type": "stream",
          "name": "stdout",
          "text": [
            "5\n"
          ]
        }
      ]
    },
    {
      "cell_type": "code",
      "source": [
        "labels = torch.tensor([d[1] for d in dataset])"
      ],
      "metadata": {
        "id": "Aadw_lHgIKBN"
      },
      "execution_count": 6,
      "outputs": []
    },
    {
      "cell_type": "code",
      "source": [
        "labels.shape"
      ],
      "metadata": {
        "colab": {
          "base_uri": "https://localhost:8080/"
        },
        "id": "lMD3SAmJJ0XH",
        "outputId": "bcd4801a-6729-4b3b-9ef6-c740c670c346"
      },
      "execution_count": 7,
      "outputs": [
        {
          "output_type": "execute_result",
          "data": {
            "text/plain": [
              "torch.Size([60000])"
            ]
          },
          "metadata": {},
          "execution_count": 7
        }
      ]
    },
    {
      "cell_type": "code",
      "source": [
        "labels = labels.reshape(60000,1)"
      ],
      "metadata": {
        "id": "XkC3M-aqKDBe"
      },
      "execution_count": 8,
      "outputs": []
    },
    {
      "cell_type": "code",
      "source": [
        "labels"
      ],
      "metadata": {
        "colab": {
          "base_uri": "https://localhost:8080/"
        },
        "id": "HyPYv02fKwUU",
        "outputId": "52fc734f-c65d-4aa9-840c-c9e3511706a8"
      },
      "execution_count": 9,
      "outputs": [
        {
          "output_type": "execute_result",
          "data": {
            "text/plain": [
              "tensor([[5],\n",
              "        [0],\n",
              "        [4],\n",
              "        ...,\n",
              "        [5],\n",
              "        [6],\n",
              "        [8]])"
            ]
          },
          "metadata": {},
          "execution_count": 9
        }
      ]
    },
    {
      "cell_type": "code",
      "source": [
        "X = torch.stack([d[0] for d in dataset])"
      ],
      "metadata": {
        "id": "EIG-nb2OKyH3"
      },
      "execution_count": 10,
      "outputs": []
    },
    {
      "cell_type": "code",
      "source": [
        "X.shape"
      ],
      "metadata": {
        "colab": {
          "base_uri": "https://localhost:8080/"
        },
        "id": "ZO49ZDJ3K5on",
        "outputId": "f6b5ed85-0340-428b-e049-85c7f6a8dbc5"
      },
      "execution_count": 11,
      "outputs": [
        {
          "output_type": "execute_result",
          "data": {
            "text/plain": [
              "torch.Size([60000, 1, 28, 28])"
            ]
          },
          "metadata": {},
          "execution_count": 11
        }
      ]
    },
    {
      "cell_type": "code",
      "source": [
        "X = X.view(60000, 784)"
      ],
      "metadata": {
        "id": "XjZByv6_LzBd"
      },
      "execution_count": 12,
      "outputs": []
    },
    {
      "cell_type": "code",
      "source": [
        "X.shape"
      ],
      "metadata": {
        "colab": {
          "base_uri": "https://localhost:8080/"
        },
        "id": "Aqb9sFd9MH7p",
        "outputId": "1b94b8e4-ffad-43a8-e3b0-adb695076298"
      },
      "execution_count": 13,
      "outputs": [
        {
          "output_type": "execute_result",
          "data": {
            "text/plain": [
              "torch.Size([60000, 784])"
            ]
          },
          "metadata": {},
          "execution_count": 13
        }
      ]
    },
    {
      "cell_type": "code",
      "source": [
        "plt.imshow(X[0].reshape(28,28))"
      ],
      "metadata": {
        "colab": {
          "base_uri": "https://localhost:8080/",
          "height": 447
        },
        "id": "DCswFALCMyTx",
        "outputId": "a617678b-1f6f-4f70-ca57-d693413ac27d"
      },
      "execution_count": 14,
      "outputs": [
        {
          "output_type": "execute_result",
          "data": {
            "text/plain": [
              "<matplotlib.image.AxesImage at 0x7f9320dd24d0>"
            ]
          },
          "metadata": {},
          "execution_count": 14
        },
        {
          "output_type": "display_data",
          "data": {
            "text/plain": [
              "<Figure size 640x480 with 1 Axes>"
            ],
            "image/png": "[encoded data removed]"
          },
          "metadata": {}
        }
      ]
    },
    {
      "cell_type": "code",
      "source": [
        "# Center the data by subtracting the mean\n",
        "X_centered = X - torch.mean(X, dim=0)"
      ],
      "metadata": {
        "id": "TA91LBQtM38p"
      },
      "execution_count": 15,
      "outputs": []
    },
    {
      "cell_type": "code",
      "source": [
        "# Calculate the covariance matrix\n",
        "cov_matrix = torch.mm(X_centered.t().cuda(), X_centered.cuda()) / (X.size(0) - 1)"
      ],
      "metadata": {
        "id": "4DIO4TrQA6TB"
      },
      "execution_count": 16,
      "outputs": []
    },
    {
      "cell_type": "code",
      "source": [
        "# Convert the covariance matrix to a PyTorch tensor\n",
        "A = torch.tensor(cov_matrix, dtype=torch.float32).cuda()"
      ],
      "metadata": {
        "colab": {
          "base_uri": "https://localhost:8080/"
        },
        "id": "pKYDDE4JA9JI",
        "outputId": "d8fe9871-4c05-434b-c1ed-1fd26aca949a"
      },
      "execution_count": 17,
      "outputs": [
        {
          "output_type": "stream",
          "name": "stderr",
          "text": [
            "<ipython-input-17-e651f5a374b4>:2: UserWarning: To copy construct from a tensor, it is recommended to use sourceTensor.clone().detach() or sourceTensor.clone().detach().requires_grad_(True), rather than torch.tensor(sourceTensor).\n",
            "  A = torch.tensor(cov_matrix, dtype=torch.float32).cuda()\n"
          ]
        }
      ]
    },
    {
      "cell_type": "code",
      "source": [
        "# Find the eigenvalues and eigenvectors\n",
        "L_complex, V_complex = torch.linalg.eigh(A)\n",
        "L_real = L_complex.real"
      ],
      "metadata": {
        "id": "AVl2T3XwBEox"
      },
      "execution_count": 18,
      "outputs": []
    },
    {
      "cell_type": "code",
      "source": [
        "# Sort eigenvalues and corresponding eigenvectors in descending order\n",
        "sorted_indices = torch.argsort(L_real, descending=True)\n",
        "sorted_L_real = L_real[sorted_indices]\n",
        "sorted_V_real = V_complex[:, sorted_indices]\n",
        "\n",
        "# Print the sorted eigenvalues and eigenvectors\n",
        "print(\"Sorted Eigenvalues:\")\n",
        "print(sorted_L_real)\n",
        "print(\"\\nSorted Eigenvectors:\")\n",
        "print(sorted_V_real)"
      ],
      "metadata": {
        "colab": {
          "base_uri": "https://localhost:8080/"
        },
        "id": "7WcapKfJBFEd",
        "outputId": "7b055715-ee63-4936-ef20-6f0b1c73f079"
      },
      "execution_count": 19,
      "outputs": [
        {
          "output_type": "stream",
          "name": "stdout",
          "text": [
            "Sorted Eigenvalues:\n",
            "tensor([ 5.1169e+00,  3.7414e+00,  3.2527e+00,  2.8416e+00,  2.5671e+00,\n",
            "         2.2737e+00,  1.7252e+00,  1.5206e+00,  1.4563e+00,  1.2428e+00,\n",
            "         1.1121e+00,  1.0666e+00,  9.0468e-01,  8.9218e-01,  8.3235e-01,\n",
            "         7.8190e-01,  6.9839e-01,  6.7326e-01,  6.2600e-01,  6.0776e-01,\n",
            "         5.6214e-01,  5.3080e-01,  5.0278e-01,  4.8115e-01,  4.6578e-01,\n",
            "         4.4254e-01,  4.2844e-01,  4.1462e-01,  3.9267e-01,  3.6426e-01,\n",
            "         3.4699e-01,  3.4174e-01,  3.1773e-01,  3.0928e-01,  3.0055e-01,\n",
            "         2.8663e-01,  2.6668e-01,  2.5723e-01,  2.5384e-01,  2.4901e-01,\n",
            "         2.4082e-01,  2.3454e-01,  2.2066e-01,  2.0996e-01,  2.0298e-01,\n",
            "         1.9778e-01,  1.9087e-01,  1.8538e-01,  1.7930e-01,  1.6971e-01,\n",
            "         1.6820e-01,  1.6493e-01,  1.5606e-01,  1.5235e-01,  1.4981e-01,\n",
            "         1.4312e-01,  1.4211e-01,  1.3628e-01,  1.3380e-01,  1.2906e-01,\n",
            "         1.2681e-01,  1.2615e-01,  1.2148e-01,  1.1680e-01,  1.1269e-01,\n",
            "         1.0926e-01,  1.0706e-01,  1.0376e-01,  1.0168e-01,  9.9459e-02,\n",
            "         9.8584e-02,  9.5477e-02,  9.3622e-02,  9.2217e-02,  8.7398e-02,\n",
            "         8.6415e-02,  8.5132e-02,  8.1786e-02,  7.7831e-02,  7.5491e-02,\n",
            "         7.4921e-02,  7.4425e-02,  7.3907e-02,  7.1567e-02,  7.0572e-02,\n",
            "         6.9807e-02,  6.8627e-02,  6.6368e-02,  6.4762e-02,  6.4107e-02,\n",
            "         6.1707e-02,  6.0569e-02,  5.9709e-02,  5.8466e-02,  5.7472e-02,\n",
            "         5.6378e-02,  5.4939e-02,  5.4838e-02,  5.3388e-02,  5.3004e-02,\n",
            "         5.1883e-02,  5.0074e-02,  4.9633e-02,  4.8305e-02,  4.7868e-02,\n",
            "         4.7288e-02,  4.5628e-02,  4.5090e-02,  4.4587e-02,  4.3368e-02,\n",
            "         4.1737e-02,  4.1440e-02,  4.1370e-02,  4.0537e-02,  4.0283e-02,\n",
            "         3.9706e-02,  3.8848e-02,  3.8337e-02,  3.7945e-02,  3.7266e-02,\n",
            "         3.6667e-02,  3.6494e-02,  3.6027e-02,  3.5540e-02,  3.5162e-02,\n",
            "         3.4020e-02,  3.3513e-02,  3.3305e-02,  3.2845e-02,  3.1915e-02,\n",
            "         3.1824e-02,  3.1345e-02,  3.1020e-02,  3.0923e-02,  3.0650e-02,\n",
            "         3.0414e-02,  2.9809e-02,  2.9250e-02,  2.8217e-02,  2.7730e-02,\n",
            "         2.7685e-02,  2.6905e-02,  2.6519e-02,  2.6420e-02,  2.6295e-02,\n",
            "         2.5894e-02,  2.5600e-02,  2.5458e-02,  2.4992e-02,  2.4694e-02,\n",
            "         2.4602e-02,  2.4429e-02,  2.4216e-02,  2.3748e-02,  2.3662e-02,\n",
            "         2.3342e-02,  2.3023e-02,  2.2538e-02,  2.2408e-02,  2.2251e-02,\n",
            "         2.1908e-02,  2.1598e-02,  2.1133e-02,  2.0979e-02,  2.0778e-02,\n",
            "         2.0589e-02,  2.0343e-02,  2.0025e-02,  1.9977e-02,  1.9718e-02,\n",
            "         1.9477e-02,  1.9253e-02,  1.9183e-02,  1.8975e-02,  1.8698e-02,\n",
            "         1.8608e-02,  1.8310e-02,  1.8242e-02,  1.8003e-02,  1.7802e-02,\n",
            "         1.7772e-02,  1.7411e-02,  1.7313e-02,  1.7184e-02,  1.7029e-02,\n",
            "         1.6941e-02,  1.6729e-02,  1.6672e-02,  1.6395e-02,  1.6319e-02,\n",
            "         1.6133e-02,  1.5990e-02,  1.5945e-02,  1.5900e-02,  1.5644e-02,\n",
            "         1.5593e-02,  1.5473e-02,  1.5432e-02,  1.5172e-02,  1.4993e-02,\n",
            "         1.4868e-02,  1.4714e-02,  1.4537e-02,  1.4366e-02,  1.4207e-02,\n",
            "         1.4116e-02,  1.3980e-02,  1.3937e-02,  1.3809e-02,  1.3680e-02,\n",
            "         1.3633e-02,  1.3546e-02,  1.3431e-02,  1.3331e-02,  1.3302e-02,\n",
            "         1.3158e-02,  1.3103e-02,  1.2974e-02,  1.2863e-02,  1.2752e-02,\n",
            "         1.2705e-02,  1.2679e-02,  1.2563e-02,  1.2488e-02,  1.2264e-02,\n",
            "         1.2196e-02,  1.2134e-02,  1.2026e-02,  1.1999e-02,  1.1747e-02,\n",
            "         1.1697e-02,  1.1622e-02,  1.1489e-02,  1.1425e-02,  1.1344e-02,\n",
            "         1.1293e-02,  1.1223e-02,  1.1093e-02,  1.1060e-02,  1.0912e-02,\n",
            "         1.0794e-02,  1.0771e-02,  1.0615e-02,  1.0597e-02,  1.0492e-02,\n",
            "         1.0421e-02,  1.0326e-02,  1.0215e-02,  1.0170e-02,  1.0109e-02,\n",
            "         1.0101e-02,  9.9694e-03,  9.9128e-03,  9.8282e-03,  9.7994e-03,\n",
            "         9.7346e-03,  9.6838e-03,  9.6567e-03,  9.5903e-03,  9.4834e-03,\n",
            "         9.3610e-03,  9.3161e-03,  9.2785e-03,  9.1687e-03,  9.1441e-03,\n",
            "         9.1035e-03,  9.0368e-03,  8.9663e-03,  8.9268e-03,  8.8580e-03,\n",
            "         8.8006e-03,  8.7760e-03,  8.6579e-03,  8.6209e-03,  8.5752e-03,\n",
            "         8.5358e-03,  8.4821e-03,  8.4278e-03,  8.3746e-03,  8.2973e-03,\n",
            "         8.2634e-03,  8.1668e-03,  8.1105e-03,  8.0715e-03,  8.0155e-03,\n",
            "         7.9096e-03,  7.8914e-03,  7.8147e-03,  7.7868e-03,  7.7062e-03,\n",
            "         7.6260e-03,  7.5534e-03,  7.5253e-03,  7.4907e-03,  7.4735e-03,\n",
            "         7.4086e-03,  7.2888e-03,  7.2737e-03,  7.2167e-03,  7.1695e-03,\n",
            "         7.1613e-03,  7.0911e-03,  7.0453e-03,  6.9775e-03,  6.8907e-03,\n",
            "         6.8631e-03,  6.8113e-03,  6.7547e-03,  6.7244e-03,  6.7086e-03,\n",
            "         6.6611e-03,  6.6364e-03,  6.5765e-03,  6.5149e-03,  6.4642e-03,\n",
            "         6.4099e-03,  6.3812e-03,  6.3247e-03,  6.2961e-03,  6.2724e-03,\n",
            "         6.2146e-03,  6.1722e-03,  6.1420e-03,  6.1209e-03,  6.0372e-03,\n",
            "         6.0230e-03,  5.9268e-03,  5.8657e-03,  5.8264e-03,  5.8258e-03,\n",
            "         5.8036e-03,  5.7454e-03,  5.7120e-03,  5.6721e-03,  5.6410e-03,\n",
            "         5.5993e-03,  5.5843e-03,  5.5397e-03,  5.4534e-03,  5.3911e-03,\n",
            "         5.3810e-03,  5.3163e-03,  5.2880e-03,  5.2505e-03,  5.2402e-03,\n",
            "         5.1716e-03,  5.1455e-03,  5.1039e-03,  5.0363e-03,  4.9837e-03,\n",
            "         4.9459e-03,  4.9416e-03,  4.8770e-03,  4.8270e-03,  4.8174e-03,\n",
            "         4.7819e-03,  4.7485e-03,  4.7124e-03,  4.7012e-03,  4.6543e-03,\n",
            "         4.6051e-03,  4.5513e-03,  4.5135e-03,  4.4907e-03,  4.4614e-03,\n",
            "         4.3928e-03,  4.3757e-03,  4.3499e-03,  4.3200e-03,  4.2751e-03,\n",
            "         4.2655e-03,  4.1983e-03,  4.1897e-03,  4.1453e-03,  4.1168e-03,\n",
            "         4.0830e-03,  4.0399e-03,  3.9958e-03,  3.9337e-03,  3.8935e-03,\n",
            "         3.8786e-03,  3.8380e-03,  3.8359e-03,  3.7997e-03,  3.7655e-03,\n",
            "         3.7323e-03,  3.6722e-03,  3.6514e-03,  3.6020e-03,  3.5825e-03,\n",
            "         3.5364e-03,  3.4928e-03,  3.4427e-03,  3.3844e-03,  3.3602e-03,\n",
            "         3.3470e-03,  3.2707e-03,  3.2326e-03,  3.1805e-03,  3.1599e-03,\n",
            "         3.1306e-03,  3.0957e-03,  3.0916e-03,  3.0265e-03,  2.9912e-03,\n",
            "         2.9730e-03,  2.9323e-03,  2.8956e-03,  2.8855e-03,  2.8719e-03,\n",
            "         2.8136e-03,  2.7820e-03,  2.7714e-03,  2.7524e-03,  2.7349e-03,\n",
            "         2.6896e-03,  2.6571e-03,  2.6239e-03,  2.5878e-03,  2.5680e-03,\n",
            "         2.5278e-03,  2.4902e-03,  2.4631e-03,  2.4490e-03,  2.4050e-03,\n",
            "         2.3689e-03,  2.3050e-03,  2.2634e-03,  2.2459e-03,  2.2374e-03,\n",
            "         2.2252e-03,  2.2045e-03,  2.1829e-03,  2.1548e-03,  2.1249e-03,\n",
            "         2.0346e-03,  2.0158e-03,  2.0121e-03,  1.9981e-03,  1.9677e-03,\n",
            "         1.9550e-03,  1.9300e-03,  1.8849e-03,  1.8616e-03,  1.8599e-03,\n",
            "         1.8390e-03,  1.8215e-03,  1.8145e-03,  1.7613e-03,  1.7402e-03,\n",
            "         1.6975e-03,  1.6846e-03,  1.6681e-03,  1.6353e-03,  1.6040e-03,\n",
            "         1.5897e-03,  1.5770e-03,  1.5403e-03,  1.5216e-03,  1.5041e-03,\n",
            "         1.4801e-03,  1.4717e-03,  1.4512e-03,  1.4204e-03,  1.3596e-03,\n",
            "         1.3324e-03,  1.3281e-03,  1.3090e-03,  1.3020e-03,  1.2822e-03,\n",
            "         1.2818e-03,  1.2809e-03,  1.2508e-03,  1.2308e-03,  1.2254e-03,\n",
            "         1.1869e-03,  1.1801e-03,  1.1664e-03,  1.1300e-03,  1.1231e-03,\n",
            "         1.1107e-03,  1.1002e-03,  1.0748e-03,  1.0597e-03,  1.0472e-03,\n",
            "         1.0347e-03,  1.0293e-03,  9.9981e-04,  9.7235e-04,  9.5733e-04,\n",
            "         9.5406e-04,  9.4946e-04,  9.2707e-04,  9.1853e-04,  8.6219e-04,\n",
            "         8.5303e-04,  8.4955e-04,  8.3807e-04,  8.1985e-04,  8.0047e-04,\n",
            "         7.9969e-04,  7.9087e-04,  7.7769e-04,  7.6846e-04,  7.5800e-04,\n",
            "         7.4754e-04,  7.3589e-04,  7.2654e-04,  7.2173e-04,  7.0264e-04,\n",
            "         6.9128e-04,  6.6132e-04,  6.5312e-04,  6.4289e-04,  6.3048e-04,\n",
            "         6.2945e-04,  6.2052e-04,  6.1975e-04,  5.9874e-04,  5.9717e-04,\n",
            "         5.9382e-04,  5.8009e-04,  5.7679e-04,  5.5680e-04,  5.5602e-04,\n",
            "         5.3980e-04,  5.2842e-04,  5.0416e-04,  4.9435e-04,  4.8784e-04,\n",
            "         4.8725e-04,  4.6588e-04,  4.6577e-04,  4.5419e-04,  4.3000e-04,\n",
            "         4.2002e-04,  4.1507e-04,  4.0745e-04,  4.0036e-04,  3.9979e-04,\n",
            "         3.9964e-04,  3.8986e-04,  3.8317e-04,  3.7700e-04,  3.6668e-04,\n",
            "         3.6295e-04,  3.5407e-04,  3.5090e-04,  3.4495e-04,  3.4129e-04,\n",
            "         3.2325e-04,  3.1259e-04,  3.0147e-04,  2.9971e-04,  2.9259e-04,\n",
            "         2.8311e-04,  2.7796e-04,  2.7320e-04,  2.6444e-04,  2.6363e-04,\n",
            "         2.5998e-04,  2.5841e-04,  2.5306e-04,  2.4775e-04,  2.4388e-04,\n",
            "         2.4174e-04,  2.2142e-04,  2.2067e-04,  2.1142e-04,  2.0978e-04,\n",
            "         2.0782e-04,  2.0090e-04,  1.9988e-04,  1.7155e-04,  1.7050e-04,\n",
            "         1.6942e-04,  1.6756e-04,  1.6439e-04,  1.6360e-04,  1.5899e-04,\n",
            "         1.5740e-04,  1.5740e-04,  1.5655e-04,  1.5446e-04,  1.4851e-04,\n",
            "         1.3905e-04,  1.3585e-04,  1.2444e-04,  1.2000e-04,  1.1820e-04,\n",
            "         1.1744e-04,  1.1711e-04,  1.1546e-04,  1.1409e-04,  1.1084e-04,\n",
            "         1.0735e-04,  9.8828e-05,  9.8232e-05,  9.8064e-05,  9.7124e-05,\n",
            "         9.5042e-05,  9.1307e-05,  8.5679e-05,  8.4899e-05,  8.0003e-05,\n",
            "         7.7058e-05,  7.4114e-05,  7.3131e-05,  6.9057e-05,  6.8921e-05,\n",
            "         6.8187e-05,  6.4514e-05,  6.1146e-05,  5.6383e-05,  5.5059e-05,\n",
            "         5.4537e-05,  5.4507e-05,  5.1972e-05,  5.0925e-05,  4.9178e-05,\n",
            "         4.8423e-05,  4.7894e-05,  4.7040e-05,  4.6960e-05,  4.3581e-05,\n",
            "         4.0325e-05,  3.8625e-05,  3.7351e-05,  3.5262e-05,  3.4865e-05,\n",
            "         3.3478e-05,  3.3420e-05,  3.2859e-05,  3.0759e-05,  2.9924e-05,\n",
            "         2.9536e-05,  2.9197e-05,  2.8594e-05,  2.7959e-05,  2.4969e-05,\n",
            "         2.4861e-05,  2.4433e-05,  2.2286e-05,  2.2117e-05,  2.1021e-05,\n",
            "         1.9631e-05,  1.9551e-05,  1.6687e-05,  1.6415e-05,  1.5935e-05,\n",
            "         1.5116e-05,  1.4088e-05,  1.3625e-05,  1.2997e-05,  1.2580e-05,\n",
            "         1.2386e-05,  1.2197e-05,  1.1685e-05,  1.1517e-05,  1.1317e-05,\n",
            "         1.0773e-05,  9.9653e-06,  9.4078e-06,  8.5200e-06,  8.2059e-06,\n",
            "         8.0680e-06,  7.2455e-06,  7.2438e-06,  7.2105e-06,  5.3420e-06,\n",
            "         4.9237e-06,  3.8693e-06,  3.7186e-06,  3.5829e-06,  3.5583e-06,\n",
            "         3.3613e-06,  3.1432e-06,  3.1348e-06,  3.0311e-06,  2.8948e-06,\n",
            "         2.4153e-06,  2.4125e-06,  1.9935e-06,  1.9481e-06,  1.9005e-06,\n",
            "         1.8181e-06,  1.7951e-06,  1.6863e-06,  1.6343e-06,  1.5336e-06,\n",
            "         1.4505e-06,  1.1453e-06,  9.2435e-07,  7.9710e-07,  7.5801e-07,\n",
            "         7.0858e-07,  5.9891e-07,  4.9552e-07,  4.9456e-07,  4.3716e-07,\n",
            "         3.9454e-07,  2.8293e-07,  2.5536e-07,  2.3971e-07,  2.1526e-07,\n",
            "         1.9440e-07,  1.7946e-07,  1.7387e-07,  1.5925e-07,  1.4177e-07,\n",
            "         1.0402e-07,  9.6457e-08,  5.1504e-08,  4.8024e-08,  4.5775e-08,\n",
            "         4.1140e-08,  4.0251e-08,  3.5295e-08,  3.3154e-08,  1.6166e-08,\n",
            "         1.5387e-08,  9.6017e-09,  9.5937e-09,  5.7899e-09,  5.6515e-09,\n",
            "         5.4994e-09,  5.1197e-09,  1.5837e-09,  1.1494e-09,  5.1243e-11,\n",
            "         2.6980e-12,  1.3577e-12,  1.3259e-12,  1.0753e-12,  7.9387e-13,\n",
            "         6.6562e-13,  5.3551e-13,  3.5629e-13,  2.6942e-13,  1.2780e-13,\n",
            "         0.0000e+00,  0.0000e+00,  0.0000e+00,  0.0000e+00,  0.0000e+00,\n",
            "         0.0000e+00,  0.0000e+00,  0.0000e+00,  0.0000e+00,  0.0000e+00,\n",
            "         0.0000e+00,  0.0000e+00,  0.0000e+00,  0.0000e+00,  0.0000e+00,\n",
            "         0.0000e+00, -1.3924e-14, -4.2880e-13, -6.5550e-13, -8.2558e-13,\n",
            "        -9.9285e-13, -1.0634e-12, -1.2074e-12, -1.7983e-12, -3.1211e-12,\n",
            "        -6.8875e-12, -6.2273e-11, -1.4759e-10, -5.7060e-10, -4.4548e-09,\n",
            "        -4.8364e-09, -7.6069e-09, -7.8290e-09, -1.1143e-08, -1.3152e-08,\n",
            "        -1.5766e-08, -1.7793e-08, -2.6410e-08, -3.0861e-08, -3.8037e-08,\n",
            "        -6.1327e-08, -7.9287e-08, -8.5141e-08, -2.5056e-07], device='cuda:0')\n",
            "\n",
            "Sorted Eigenvectors:\n",
            "tensor([[0., 0., 0.,  ..., 0., 0., 0.],\n",
            "        [0., 0., 0.,  ..., 0., 0., 0.],\n",
            "        [0., 0., 0.,  ..., 0., 0., 0.],\n",
            "        ...,\n",
            "        [0., 0., 0.,  ..., 0., 0., 0.],\n",
            "        [0., 0., 0.,  ..., 0., 0., 0.],\n",
            "        [0., 0., 0.,  ..., 0., 0., 0.]], device='cuda:0')\n"
          ]
        }
      ]
    },
    {
      "cell_type": "code",
      "source": [
        "print(sorted_L_real.shape)\n",
        "print(sorted_V_real.shape)"
      ],
      "metadata": {
        "colab": {
          "base_uri": "https://localhost:8080/"
        },
        "id": "tnPKKwc7BGrD",
        "outputId": "b6fd16ad-fd48-4304-96f2-e6c129c12bc0"
      },
      "execution_count": 20,
      "outputs": [
        {
          "output_type": "stream",
          "name": "stdout",
          "text": [
            "torch.Size([784])\n",
            "torch.Size([784, 784])\n"
          ]
        }
      ]
    },
    {
      "cell_type": "code",
      "source": [
        "import numpy as np\n",
        "\n",
        "# Create a 4x4 grid of subplots\n",
        "fig, axes = plt.subplots(4, 4, figsize=(10, 10))\n",
        "\n",
        "# Plot the first 16 eigenvectors\n",
        "for i in range(16):\n",
        "    row = i // 4\n",
        "    col = i % 4\n",
        "\n",
        "    # Extract the i-th eigenvector\n",
        "    eigenvector_i = sorted_V_real[:, i]\n",
        "\n",
        "    # Plot the absolute value of the reshaped eigenvector\n",
        "    axes[row, col].imshow(np.abs(eigenvector_i.cpu().reshape(28,28)), cmap='gray')\n",
        "    axes[row, col].axis('off')\n",
        "\n",
        "plt.show()"
      ],
      "metadata": {
        "colab": {
          "base_uri": "https://localhost:8080/",
          "height": 807
        },
        "id": "yrMj4zm1BJCN",
        "outputId": "50c0d944-4a02-473a-e621-efd758fb42d8"
      },
      "execution_count": 23,
      "outputs": [
        {
          "output_type": "display_data",
          "data": {
            "text/plain": [
              "<Figure size 1000x1000 with 16 Axes>"
            ],
            "image/png": "[encoded data removed]"
          },
          "metadata": {}
        }
      ]
    },
    {
      "cell_type": "code",
      "source": [
        "# Step 8: Project the Data onto the Selected Principal Components\n",
        "alpha = torch.mm(X_centered.cuda() , sorted_V_real.cuda())\n",
        "\n",
        "# Step 9: Reconstruct the Data (Optional)\n",
        "X_reconstructed = torch.mm(alpha.cuda(),sorted_V_real.cuda().T) + torch.mean(X,axis=0).cuda()"
      ],
      "metadata": {
        "id": "DUoF6NEwBMiV"
      },
      "execution_count": 24,
      "outputs": []
    },
    {
      "cell_type": "code",
      "source": [
        "plt.figure(figsize=(2, 2))\n",
        "plt.imshow(np.abs(X_reconstructed[1343].cpu().reshape(28,28)),cmap='gray')\n",
        "plt.axis('off')\n",
        "plt.show()"
      ],
      "metadata": {
        "colab": {
          "base_uri": "https://localhost:8080/",
          "height": 191
        },
        "id": "YJRD4ctDBero",
        "outputId": "03072372-fc91-4878-d877-3e9fb2565c29"
      },
      "execution_count": 26,
      "outputs": [
        {
          "output_type": "display_data",
          "data": {
            "text/plain": [
              "<Figure size 200x200 with 1 Axes>"
            ],
            "image/png": "[encoded data removed]"
          },
          "metadata": {}
        }
      ]
    },
    {
      "cell_type": "code",
      "source": [
        "from sklearn.metrics import mean_squared_error\n",
        "\n",
        "def calculate_rmse(img_original, img_predicted):\n",
        "    mse = mean_squared_error(img_original.flatten(), img_predicted.flatten())\n",
        "    rmse = np.sqrt(mse)\n",
        "    return rmse"
      ],
      "metadata": {
        "id": "z-LzbAQhBhDg"
      },
      "execution_count": 27,
      "outputs": []
    },
    {
      "cell_type": "code",
      "source": [
        "def average_rmse(X_reconstructed):\n",
        "  i = 0\n",
        "  rmse = 0\n",
        "  for x in X:\n",
        "    rmse += calculate_rmse(x,np.abs(X_reconstructed[i]))\n",
        "    i = i + 1\n",
        "\n",
        "  return rmse/i"
      ],
      "metadata": {
        "id": "qgZiWbsUBm5f"
      },
      "execution_count": 28,
      "outputs": []
    },
    {
      "cell_type": "code",
      "source": [
        "X_reconstructed.shape"
      ],
      "metadata": {
        "colab": {
          "base_uri": "https://localhost:8080/"
        },
        "id": "Hv35FtVeBoaY",
        "outputId": "6e1fc6b5-e1ca-4d03-f4bd-184fc5016cf6"
      },
      "execution_count": 29,
      "outputs": [
        {
          "output_type": "execute_result",
          "data": {
            "text/plain": [
              "torch.Size([60000, 784])"
            ]
          },
          "metadata": {},
          "execution_count": 29
        }
      ]
    },
    {
      "cell_type": "code",
      "source": [
        "import random\n",
        "random_number = random.randint(0, 59999)\n",
        "# random_number = 1343\n",
        "\n",
        "err_history = {}\n",
        "output = []\n",
        "\n",
        "plt.figure(figsize=(2, 2))\n",
        "\n",
        "for kk in range(0,784,50):\n",
        "\n",
        "  eigenvectors = sorted_V_real.T[:kk].T\n",
        "\n",
        "  # Step 8: Project the Data onto the Selected Principal Components\n",
        "  alpha = torch.mm(X_centered.cuda() , eigenvectors.cuda())\n",
        "  # Step 9: Reconstruct the Data (Optional)\n",
        "  X_reconstructed = torch.mm(alpha.cuda(),eigenvectors.T.cuda()) + torch.mean(X,axis=0).cuda()\n",
        "  output.append(plt.imshow(np.abs(X_reconstructed[random_number].cpu().reshape(28,28)),cmap='gray'))\n",
        "  reconstruction_error = average_rmse(X_reconstructed.cpu())\n",
        "  err_history[kk] = reconstruction_error\n",
        "\n",
        "plt.imshow(np.abs(X[random_number].cpu().reshape(28,28)),cmap='gray')\n",
        "plt.axis('off')\n",
        "plt.title(\"Original Image: K = 16384\")\n",
        "plt.show()"
      ],
      "metadata": {
        "colab": {
          "base_uri": "https://localhost:8080/",
          "height": 213
        },
        "id": "dVuSXx7zBqD5",
        "outputId": "86dc35f8-7672-4b52-9ce6-4c0e032b97de"
      },
      "execution_count": 34,
      "outputs": [
        {
          "output_type": "display_data",
          "data": {
            "text/plain": [
              "<Figure size 200x200 with 1 Axes>"
            ],
            "image/png": "[encoded data removed]"
          },
          "metadata": {}
        }
      ]
    },
    {
      "cell_type": "code",
      "source": [
        "num_images = len(output)\n",
        "rows = int(np.sqrt(num_images))\n",
        "cols = int(np.ceil(num_images / rows))\n",
        "\n",
        "# Create a subplot grid\n",
        "fig, axs = plt.subplots(rows, cols, figsize=(10, 10))\n",
        "list_of_k = list(err_history.keys())\n",
        "# Display each image in the grid\n",
        "for i in range(rows):\n",
        "    for j in range(cols):\n",
        "        idx = i * cols + j\n",
        "        if idx < num_images:\n",
        "            axs[i, j].imshow(output[idx].get_array(), cmap='gray')\n",
        "            axs[i, j].axis('off')\n",
        "            axs[i, j].set_title(\"K = \"+str(list_of_k[idx]))\n",
        "plt.show()"
      ],
      "metadata": {
        "colab": {
          "base_uri": "https://localhost:8080/",
          "height": 829
        },
        "id": "YhEgN_JsBxEi",
        "outputId": "83db073a-db93-4a08-9af0-a8c1bc908a2f"
      },
      "execution_count": 35,
      "outputs": [
        {
          "output_type": "display_data",
          "data": {
            "text/plain": [
              "<Figure size 1000x1000 with 16 Axes>"
            ],
            "image/png": "[encoded data removed]"
          },
          "metadata": {}
        }
      ]
    },
    {
      "cell_type": "code",
      "source": [
        "plt.plot(list(err_history.keys()), list(err_history.values()), marker='o')\n",
        "plt.title('Reconstruction Error vs. Number of Principal Components (K)')\n",
        "plt.xlabel('Number of Principal Components (K)')\n",
        "plt.ylabel('Reconstruction Error')\n",
        "plt.grid(True)\n",
        "plt.show()"
      ],
      "metadata": {
        "colab": {
          "base_uri": "https://localhost:8080/",
          "height": 472
        },
        "id": "0PDHDMPrCGQR",
        "outputId": "04ac9679-1f98-4262-821d-d7554042d3c0"
      },
      "execution_count": 36,
      "outputs": [
        {
          "output_type": "display_data",
          "data": {
            "text/plain": [
              "<Figure size 640x480 with 1 Axes>"
            ],
            "image/png": "[encoded data removed]"
          },
          "metadata": {}
        }
      ]
    },
    {
      "cell_type": "code",
      "source": [],
      "metadata": {
        "id": "l_KIZJceCZa3"
      },
      "execution_count": null,
      "outputs": []
    }
  ]
}